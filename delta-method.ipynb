{
 "cells": [
  {
   "cell_type": "code",
   "execution_count": 24,
   "metadata": {},
   "outputs": [],
   "source": [
    "import numpy as np\n",
    "import scipy.stats\n",
    "import pandas as pd\n",
    "from abby.compare import compare_bootstrap, compare_delta\n"
   ]
  },
  {
   "cell_type": "code",
   "execution_count": 32,
   "metadata": {},
   "outputs": [],
   "source": [
    "def generate_dataset(\n",
    "    num_users=10000,\n",
    "    baseline_conversion_rate=0.2,\n",
    "    sessions_skew=0.5,  # controls variance in sessions per user. higher = more variance\n",
    "    beta_size=1000,  # controls variance in conversion. higher = less variance\n",
    "    cvr_decay_factor=0.1,\n",
    "):\n",
    "    sessions = (\n",
    "        np.exp(scipy.stats.norm(1, sessions_skew).rvs(num_users)).astype(int)\n",
    "        + 1\n",
    "    )\n",
    "\n",
    "    cvr_func = lambda x, y: x * (\n",
    "        1 / 10 + 9 / 10 * np.exp(-1 * cvr_decay_factor * (y - 1))\n",
    "    )\n",
    "    rates = cvr_func(baseline_conversion_rate, sessions)\n",
    "    a = rates * beta_size\n",
    "    b = beta_size - rates * beta_size\n",
    "    conversion_rates = np.random.beta(a, b, size=num_users)\n",
    "\n",
    "    conversions = np.random.binomial(\n",
    "        sessions, conversion_rates, size=num_users\n",
    "    )\n",
    "    return sessions, conversions, conversion_rates\n",
    "\n",
    "\n",
    "def generate_experiment_datasets(sessions, conversions, num_experiments=5000):\n",
    "    _sessions_ctrl = []\n",
    "    _sessions_exp = []\n",
    "\n",
    "    _conversions_ctrl = []\n",
    "    _conversions_exp = []\n",
    "\n",
    "    num_users = sessions.shape[0]\n",
    "\n",
    "    for x in range(0, num_experiments):\n",
    "        assignments = np.random.choice(num_users, num_users, replace=False)\n",
    "        control_idxs = assignments[0 : int(num_users / 2)]\n",
    "        test_idxs = assignments[int(num_users / 2) :]\n",
    "\n",
    "        _sessions_ctrl.append(sessions[control_idxs])\n",
    "        _sessions_exp.append(sessions[test_idxs])\n",
    "\n",
    "        _conversions_ctrl.append(conversions[control_idxs])\n",
    "        _conversions_exp.append(conversions[test_idxs])\n",
    "\n",
    "    sessions_ctrl = np.array(_sessions_ctrl).astype(np.float64)\n",
    "    sessions_exp = np.array(_sessions_exp).astype(np.float64)\n",
    "    conversions_ctrl = np.array(_conversions_ctrl).astype(np.float64)\n",
    "    conversions_exp = np.array(_conversions_exp).astype(np.float64)\n",
    "\n",
    "    return sessions_ctrl, sessions_exp, conversions_ctrl, conversions_exp\n"
   ]
  },
  {
   "cell_type": "code",
   "execution_count": 65,
   "metadata": {},
   "outputs": [],
   "source": [
    "sessions_exp, conversions_exp, conversion_rates = generate_dataset(\n",
    "    baseline_conversion_rate=0.2\n",
    ")\n",
    "\n",
    "sessions_ctrl, conversions_ctrl, conversion_rates = generate_dataset(\n",
    "    baseline_conversion_rate=0.19\n",
    ")\n"
   ]
  },
  {
   "cell_type": "code",
   "execution_count": 66,
   "metadata": {},
   "outputs": [
    {
     "data": {
      "text/html": [
       "<div>\n",
       "<style scoped>\n",
       "    .dataframe tbody tr th:only-of-type {\n",
       "        vertical-align: middle;\n",
       "    }\n",
       "\n",
       "    .dataframe tbody tr th {\n",
       "        vertical-align: top;\n",
       "    }\n",
       "\n",
       "    .dataframe thead th {\n",
       "        text-align: right;\n",
       "    }\n",
       "</style>\n",
       "<table border=\"1\" class=\"dataframe\">\n",
       "  <thead>\n",
       "    <tr style=\"text-align: right;\">\n",
       "      <th></th>\n",
       "      <th>conversion</th>\n",
       "      <th>session</th>\n",
       "      <th>ctr</th>\n",
       "    </tr>\n",
       "    <tr>\n",
       "      <th>variant_name</th>\n",
       "      <th></th>\n",
       "      <th></th>\n",
       "      <th></th>\n",
       "    </tr>\n",
       "  </thead>\n",
       "  <tbody>\n",
       "    <tr>\n",
       "      <th>control</th>\n",
       "      <td>5056</td>\n",
       "      <td>35631</td>\n",
       "      <td>0.141899</td>\n",
       "    </tr>\n",
       "    <tr>\n",
       "      <th>experiment</th>\n",
       "      <td>5377</td>\n",
       "      <td>35476</td>\n",
       "      <td>0.151567</td>\n",
       "    </tr>\n",
       "  </tbody>\n",
       "</table>\n",
       "</div>"
      ],
      "text/plain": [
       "              conversion  session       ctr\n",
       "variant_name                               \n",
       "control             5056    35631  0.141899\n",
       "experiment          5377    35476  0.151567"
      ]
     },
     "execution_count": 66,
     "metadata": {},
     "output_type": "execute_result"
    }
   ],
   "source": [
    "df = pd.DataFrame()\n",
    "df[\"session\"] = np.hstack((sessions_ctrl, sessions_exp))\n",
    "df[\"conversion\"] = np.hstack((conversions_ctrl, conversions_exp))\n",
    "df[\"variant_name\"] = np.repeat(\n",
    "    [\"control\", \"experiment\"], (len(sessions_ctrl), len(sessions_exp))\n",
    ")\n",
    "# df[\"cvr\"] = df.eval(\"conversion / session\")\n",
    "df.groupby(\"variant_name\")[['conversion', 'session']].sum().assign(ctr = lambda df: df['conversion'] / df['session'])\n"
   ]
  },
  {
   "cell_type": "code",
   "execution_count": 67,
   "metadata": {},
   "outputs": [],
   "source": [
    "def var_ratio(x, y):  # x/y\n",
    "    mean_x = np.mean(x)\n",
    "    mean_y = np.mean(y)\n",
    "    var_x = np.var(x, ddof=1)\n",
    "    var_y = np.var(y, ddof=1)\n",
    "    cov_xy = np.cov(x, y, ddof=1)[0][1]\n",
    "    result = (\n",
    "        (\n",
    "            var_x / mean_x ** 2\n",
    "            + var_y / mean_y ** 2\n",
    "            - 2 * cov_xy / (mean_x * mean_y)\n",
    "        )\n",
    "        * (mean_x * mean_x)\n",
    "        / (mean_y * mean_y * len(x))\n",
    "    )\n",
    "    return result\n",
    "\n",
    "\n",
    "# ttest calculation\n",
    "def ttest(mean_control, mean_treatment, var_control, var_treatment):\n",
    "    diff = mean_treatment - mean_control\n",
    "    var = var_control + var_treatment\n",
    "    stde = 1.96 * np.sqrt(var)\n",
    "    lower = diff - stde\n",
    "    upper = diff + stde\n",
    "    z = diff / np.sqrt(var)\n",
    "    p_val = stats.norm.sf(abs(z)) * 2\n",
    "\n",
    "    result = {\n",
    "        \"mean_control\": mean_control,\n",
    "        \"mean_experiment\": mean_treatment,\n",
    "        \"var_control\": var_control,\n",
    "        \"var_experiment\": var_treatment,\n",
    "        \"difference\": diff,\n",
    "        \"lower_bound\": lower,\n",
    "        \"upper_bound\": upper,\n",
    "        \"p-value\": p_val,\n",
    "    }\n",
    "    return pd.DataFrame(result, index=[0])\n",
    "\n",
    "\n",
    "var_control = var_ratio(conversions_ctrl, sessions_ctrl)\n",
    "var_treatment = var_ratio(conversions_exp, sessions_exp)\n",
    "mean_control = conversions_ctrl.sum() / sessions_ctrl.sum()\n",
    "mean_treatment = conversions_exp.sum() / sessions_exp.sum()"
   ]
  },
  {
   "cell_type": "code",
   "execution_count": 68,
   "metadata": {},
   "outputs": [],
   "source": [
    "import numpy as np\n",
    "\n",
    "\n",
    "def ratio_metric_variance(numerator_by_user_array, denominator_by_user_array):\n",
    "    # in the array, each data points represent one experimentation unit, such as user\n",
    "    # ratio metric mean numerator_by_user_array / denominator_by_user_array\n",
    "    X_d_mean = np.mean(denominator_by_user_array)\n",
    "    X_n_mean = np.mean(numerator_by_user_array)\n",
    "    X_d_variance = np.var(denominator_by_user_array)\n",
    "    X_n_variance = np.var(numerator_by_user_array)\n",
    "    X_d_n_covariance = np.cov(\n",
    "        denominator_by_user_array, numerator_by_user_array, bias=True\n",
    "    )[0][1]\n",
    "    return (\n",
    "        (X_n_variance) / (X_d_mean ** 2)\n",
    "        - 2 * X_n_mean * X_d_n_covariance / (X_d_mean ** 3)\n",
    "        + (X_n_mean ** 2) * (X_d_variance) / (X_d_mean ** 4)\n",
    "    )\n"
   ]
  },
  {
   "cell_type": "code",
   "execution_count": 69,
   "metadata": {},
   "outputs": [
    {
     "data": {
      "text/html": [
       "<div>\n",
       "<style scoped>\n",
       "    .dataframe tbody tr th:only-of-type {\n",
       "        vertical-align: middle;\n",
       "    }\n",
       "\n",
       "    .dataframe tbody tr th {\n",
       "        vertical-align: top;\n",
       "    }\n",
       "\n",
       "    .dataframe thead th {\n",
       "        text-align: right;\n",
       "    }\n",
       "</style>\n",
       "<table border=\"1\" class=\"dataframe\">\n",
       "  <thead>\n",
       "    <tr style=\"text-align: right;\">\n",
       "      <th></th>\n",
       "      <th>mean_control</th>\n",
       "      <th>mean_experiment</th>\n",
       "      <th>var_control</th>\n",
       "      <th>var_experiment</th>\n",
       "      <th>difference</th>\n",
       "      <th>lower_bound</th>\n",
       "      <th>upper_bound</th>\n",
       "      <th>p-value</th>\n",
       "    </tr>\n",
       "  </thead>\n",
       "  <tbody>\n",
       "    <tr>\n",
       "      <th>0</th>\n",
       "      <td>0.141899</td>\n",
       "      <td>0.151567</td>\n",
       "      <td>0.000003</td>\n",
       "      <td>0.000004</td>\n",
       "      <td>0.009668</td>\n",
       "      <td>0.004421</td>\n",
       "      <td>0.014916</td>\n",
       "      <td>0.000304</td>\n",
       "    </tr>\n",
       "  </tbody>\n",
       "</table>\n",
       "</div>"
      ],
      "text/plain": [
       "   mean_control  mean_experiment  var_control  var_experiment  difference  \\\n",
       "0      0.141899         0.151567     0.000003        0.000004    0.009668   \n",
       "\n",
       "   lower_bound  upper_bound   p-value  \n",
       "0     0.004421     0.014916  0.000304  "
      ]
     },
     "execution_count": 69,
     "metadata": {},
     "output_type": "execute_result"
    }
   ],
   "source": [
    "ttest(mean_control, mean_treatment, var_control, var_treatment)"
   ]
  },
  {
   "cell_type": "code",
   "execution_count": 70,
   "metadata": {},
   "outputs": [
    {
     "data": {
      "text/plain": [
       "{'mean_control': 0.14189890825404844,\n",
       " 'mean_experiment': 0.15156725673694893,\n",
       " 'var_control': 0.03486463015103382,\n",
       " 'var_experiment': 0.03679871272525411,\n",
       " 'difference': 0.00966834848290049,\n",
       " 'lower_bound': -7.0691348025951495,\n",
       " 'upper_bound': 7.088471499560951,\n",
       " 'p-value': 0.00030427348742767535,\n",
       " 'z_score': 3.611634260754107}"
      ]
     },
     "execution_count": 70,
     "metadata": {},
     "output_type": "execute_result"
    }
   ],
   "source": [
    "compare_delta(df, [\"control\", \"experiment\"], \"conversion\", \"session\")"
   ]
  },
  {
   "cell_type": "code",
   "execution_count": 61,
   "metadata": {},
   "outputs": [
    {
     "data": {
      "text/plain": [
       "1.959963984540054"
      ]
     },
     "execution_count": 61,
     "metadata": {},
     "output_type": "execute_result"
    }
   ],
   "source": [
    "stats.norm.ppf(1-0.05/2)"
   ]
  },
  {
   "cell_type": "code",
   "execution_count": 46,
   "metadata": {},
   "outputs": [
    {
     "name": "stderr",
     "output_type": "stream",
     "text": [
      "100%|██████████| 5000/5000 [00:02<00:00, 2207.24it/s]\n"
     ]
    },
    {
     "data": {
      "text/plain": [
       "0.7916000000000001"
      ]
     },
     "execution_count": 46,
     "metadata": {},
     "output_type": "execute_result"
    }
   ],
   "source": [
    "compare_bootstrap(\n",
    "df, [\"control\", \"experiment\"], \"conversion\", \"session\", n_bootstrap=5_000\n",
    ")\n"
   ]
  },
  {
   "cell_type": "code",
   "execution_count": null,
   "metadata": {},
   "outputs": [],
   "source": []
  }
 ],
 "metadata": {
  "kernelspec": {
   "display_name": "Python 3.8.3 ('env': venv)",
   "language": "python",
   "name": "python3"
  },
  "language_info": {
   "codemirror_mode": {
    "name": "ipython",
    "version": 3
   },
   "file_extension": ".py",
   "mimetype": "text/x-python",
   "name": "python",
   "nbconvert_exporter": "python",
   "pygments_lexer": "ipython3",
   "version": "3.8.3"
  },
  "orig_nbformat": 4,
  "vscode": {
   "interpreter": {
    "hash": "307d6954029e5797357873637839ee2354f7aa174638501f8b584d76d8948eea"
   }
  }
 },
 "nbformat": 4,
 "nbformat_minor": 2
}
